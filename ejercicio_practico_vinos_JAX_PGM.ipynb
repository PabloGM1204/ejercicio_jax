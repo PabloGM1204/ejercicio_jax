{
  "nbformat": 4,
  "nbformat_minor": 0,
  "metadata": {
    "colab": {
      "provenance": [],
      "gpuType": "T4"
    },
    "kernelspec": {
      "name": "python3",
      "display_name": "Python 3"
    },
    "language_info": {
      "name": "python"
    },
    "accelerator": "GPU"
  },
  "cells": [
    {
      "cell_type": "markdown",
      "source": [
        "# Calidad del vino JAX\n",
        "\n",
        "Es el mismo ejercicio que habiamos hecho en clase pero esta vez usando JAX."
      ],
      "metadata": {
        "id": "ukw_OVA_zDBX"
      }
    },
    {
      "cell_type": "code",
      "source": [
        "import numpy as np\n",
        "import matplotlib.pyplot as plt\n",
        "\n",
        "# Importación de JAX\n",
        "import jax\n",
        "import jax.numpy as jnp # Union de numpy con JAX\n",
        "from jax import grad, jit, random # Compilacion y random de JAX\n",
        "import optax\n",
        "\n",
        "# Importación de la funcion de carga del dataset\n",
        "from sklearn.datasets import load_wine\n",
        "\n",
        "# Importación para el entrenamiento\n",
        "from sklearn.model_selection import train_test_split # División de datos\n",
        "from sklearn.preprocessing import StandardScaler # Escalado de datos\n",
        "from sklearn.metrics import accuracy_score, confusion_matrix, ConfusionMatrixDisplay # Matriz de confusión"
      ],
      "metadata": {
        "id": "k-6ILwslzLMC"
      },
      "execution_count": 11,
      "outputs": []
    },
    {
      "cell_type": "code",
      "source": [
        "# Cargo los datos\n",
        "dataset = load_wine()\n",
        "X = dataset.data\n",
        "y = dataset.target"
      ],
      "metadata": {
        "id": "drlzxFld1rqm"
      },
      "execution_count": 19,
      "outputs": []
    },
    {
      "cell_type": "code",
      "source": [
        "# Normalizo los datos\n",
        "scaler = StandardScaler()\n",
        "X = scaler.fit_transform(X)"
      ],
      "metadata": {
        "id": "ex-BhcoN1tK2"
      },
      "execution_count": 20,
      "outputs": []
    },
    {
      "cell_type": "code",
      "source": [
        "# Divido los datos en conjuntos de entrenamiento y prueba\n",
        "X_train, X_test, y_train, y_test = train_test_split(X, y, test_size=0.2, random_state=42)"
      ],
      "metadata": {
        "id": "2LJJH5M71vyJ"
      },
      "execution_count": 21,
      "outputs": []
    },
    {
      "cell_type": "code",
      "execution_count": 22,
      "metadata": {
        "id": "fgGQfTOzyovt"
      },
      "outputs": [],
      "source": [
        "# Inicialización de parámetros\n",
        "def init_params(key, input_dim, output_dim):\n",
        "    key_w, key_b = random.split(key)\n",
        "    W = random.normal(key_w, (input_dim, output_dim)) * 0.01\n",
        "    b = jnp.zeros(output_dim)\n",
        "    return W, b"
      ]
    },
    {
      "cell_type": "code",
      "source": [
        "# Definición del modelo de red neuronal\n",
        "def forward(params, X):\n",
        "    W, b = params\n",
        "    logits = jnp.dot(X, W) + b\n",
        "    return logits"
      ],
      "metadata": {
        "id": "WxDQUND33ISm"
      },
      "execution_count": 23,
      "outputs": []
    },
    {
      "cell_type": "code",
      "source": [
        "# Función de pérdida (Cross-Entropy Loss)\n",
        "def loss_fn(params, X, y):\n",
        "    logits = forward(params, X)\n",
        "    y_one_hot = jax.nn.one_hot(y, logits.shape[1])\n",
        "    loss = -jnp.mean(jnp.sum(y_one_hot * jax.nn.log_softmax(logits), axis=1))\n",
        "    return loss\n",
        "\n",
        "# Gradiente de la función de pérdida\n",
        "grad_fn = jit(grad(loss_fn))"
      ],
      "metadata": {
        "id": "e_LdKuc13GQT"
      },
      "execution_count": 24,
      "outputs": []
    },
    {
      "cell_type": "code",
      "source": [
        "# Entreno con Optax para que este mas optimizado\n",
        "key = random.PRNGKey(0)\n",
        "params = init_params(key, X_train.shape[1], len(jnp.unique(y)))\n",
        "optimizer = optax.adam(learning_rate=0.01)\n",
        "opt_state = optimizer.init(params)"
      ],
      "metadata": {
        "id": "baDmPovB28Wo"
      },
      "execution_count": 25,
      "outputs": []
    },
    {
      "cell_type": "code",
      "source": [
        "# Método para actualizar los parametros durante el entrenamiento\n",
        "@jit\n",
        "def update(params, opt_state, X, y):\n",
        "    grads = grad_fn(params, X, y)\n",
        "    updates, opt_state = optimizer.update(grads, opt_state, params)\n",
        "    new_params = optax.apply_updates(params, updates)\n",
        "    return new_params, opt_state"
      ],
      "metadata": {
        "id": "cLWkAVMD266m"
      },
      "execution_count": 26,
      "outputs": []
    },
    {
      "cell_type": "code",
      "source": [
        "# Entreno el modelo\n",
        "epochs = 100\n",
        "for epoch in range(epochs):\n",
        "    params, opt_state = update(params, opt_state, X_train, y_train)"
      ],
      "metadata": {
        "id": "S9EiV8Ve2Tbb"
      },
      "execution_count": 27,
      "outputs": []
    },
    {
      "cell_type": "code",
      "source": [
        "# Evaluo el modelo\n",
        "def predict(params, X):\n",
        "    logits = forward(params, X)\n",
        "    return jnp.argmax(logits, axis=1)\n",
        "\n",
        "y_pred = predict(params, X_test)\n",
        "accuracy = accuracy_score(y_test, y_pred)\n",
        "print(f'Precisión del modelo: {accuracy:.4f}')"
      ],
      "metadata": {
        "colab": {
          "base_uri": "https://localhost:8080/"
        },
        "id": "7NLdSSU714mQ",
        "outputId": "f6569adb-6800-4a88-fed3-492ef0def22f"
      },
      "execution_count": 28,
      "outputs": [
        {
          "output_type": "stream",
          "name": "stdout",
          "text": [
            "Precisión del modelo: 0.9722\n"
          ]
        }
      ]
    },
    {
      "cell_type": "code",
      "source": [
        "# Matriz de confusión\n",
        "cm = confusion_matrix(y_test, y_pred)\n",
        "ConfusionMatrixDisplay(cm, display_labels=dataset.target_names).plot()\n",
        "plt.show()"
      ],
      "metadata": {
        "colab": {
          "base_uri": "https://localhost:8080/",
          "height": 455
        },
        "id": "fkH-owO-zKjs",
        "outputId": "b1810a71-bc84-4c67-87ae-e8dd14bc20b7"
      },
      "execution_count": 29,
      "outputs": [
        {
          "output_type": "display_data",
          "data": {
            "text/plain": [
              "<Figure size 640x480 with 2 Axes>"
            ],
            "image/png": "[encoded data removed]"
          },
          "metadata": {}
        }
      ]
    }
  ]
}